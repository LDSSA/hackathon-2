{
 "cells": [
  {
   "cell_type": "markdown",
   "metadata": {},
   "source": [
    "# Timeseries - Part (3/3) - Predicting the future\n",
    "\n",
    "#### (continued from Part (2/3) - Running first experiments) "
   ]
  },
  {
   "cell_type": "markdown",
   "metadata": {},
   "source": [
    "At the last stage, we were able to make some models that could predict the training set. However what we actually want to do is predict new, unseen data. Let's get to it! "
   ]
  },
  {
   "cell_type": "markdown",
   "metadata": {},
   "source": [
    "Imports: "
   ]
  },
  {
   "cell_type": "code",
   "execution_count": 1,
   "metadata": {
    "collapsed": true
   },
   "outputs": [],
   "source": [
    "import pandas as pd \n",
    "% matplotlib inline \n",
    "from matplotlib import pyplot as plt \n",
    "\n",
    "from ipywidgets import interact, interactive, fixed, interact_manual\n",
    "import ipywidgets as widgets\n",
    "import seaborn as sns\n",
    "\n",
    "import warnings # this is to suppress an annoying warning from sklearn \n",
    "warnings.filterwarnings(action=\"ignore\", module=\"scipy\", message=\"^internal gelsd\")\n",
    "pd.options.mode.chained_assignment = None  # default='warn'\n",
    "\n",
    "plt.style.use('seaborn')"
   ]
  },
  {
   "cell_type": "markdown",
   "metadata": {},
   "source": [
    "Getting the raw data:"
   ]
  },
  {
   "cell_type": "code",
   "execution_count": 2,
   "metadata": {
    "collapsed": true
   },
   "outputs": [],
   "source": [
    "train = pd.read_csv('../data/sales_data.csv', \n",
    "                    low_memory=False)  # this is used to ensure that it checks the types properly "
   ]
  },
  {
   "cell_type": "markdown",
   "metadata": {},
   "source": [
    "We will use the following functions a lot: "
   ]
  },
  {
   "cell_type": "code",
   "execution_count": 5,
   "metadata": {
    "collapsed": true
   },
   "outputs": [],
   "source": [
    "def prepare_index(df):   # <--- take any raw data, and get the index in order \n",
    "    df = df.copy()\n",
    "    df['Date'] = pd.to_datetime(df['Date'],      \n",
    "                                   format='%Y-%m-%d')   \n",
    "    df.set_index(['Date', 'Store'], inplace=True)      \n",
    "    df.sort_index(inplace=True)\n",
    "    return df\n",
    "\n",
    "def prepare_features(df):   # <--- Feature builder. We will edit this bit a lot, to iterate. \n",
    "    df = df.copy()\n",
    "    df['Previous day sales'] = df.groupby('Store')['Sales'].shift(1)    \n",
    "    df['Sales 6 days before'] = df.groupby('Store')['Sales'].shift(6)\n",
    "    \n",
    "    df.dropna(inplace=True)\n",
    "    return df\n",
    "\n",
    "def prepare_target(df):   # <--- get the target ready for the training set. Not needed for the test set.\n",
    "    df = df.copy()\n",
    "    df['Next day sales'] = df.groupby('Store')['Sales'].shift(-1)\n",
    "    df.dropna(inplace=True)\n",
    "    return df"
   ]
  },
  {
   "cell_type": "markdown",
   "metadata": {},
   "source": [
    "Let's apply all this to the training set: "
   ]
  },
  {
   "cell_type": "code",
   "execution_count": 6,
   "metadata": {
    "collapsed": true
   },
   "outputs": [],
   "source": [
    "# first the index: \n",
    "train_with_prepared_index = prepare_index(train)\n",
    "# now building some extra features \n",
    "train_with_prepared_features = prepare_features(train_with_prepared_index)\n",
    "# and finally prepare the target (because we'll need this to train)\n",
    "train_fully_prepared = prepare_target(train_with_prepared_features)"
   ]
  },
  {
   "cell_type": "markdown",
   "metadata": {},
   "source": [
    "Let's get an idea of what the data looks like: "
   ]
  },
  {
   "cell_type": "code",
   "execution_count": 7,
   "metadata": {},
   "outputs": [
    {
     "name": "stdout",
     "output_type": "stream",
     "text": [
      "Training data:\n",
      "Format:    (473922, 13)\n",
      "Min date:  2013-01-01 00:00:00\n",
      "Max date:  2015-05-29 00:00:00\n",
      "\n",
      "Training data after building features:\n",
      "Format:    (470574, 13)\n",
      "Min date:  2013-01-07 00:00:00\n",
      "Max date:  2015-05-29 00:00:00\n",
      "\n",
      "Training data after adding the target:\n",
      "Format:    (470016, 14)\n",
      "Min date:  2013-01-07 00:00:00\n",
      "Max date:  2015-05-28 00:00:00\n"
     ]
    }
   ],
   "source": [
    "print('Training data:')\n",
    "print('Format:   ', train.shape)\n",
    "print('Min date: ', train_with_prepared_index.index.get_level_values('Date').min())\n",
    "print('Max date: ', train_with_prepared_index.index.get_level_values('Date').max())\n",
    "print('\\nTraining data after building features:')\n",
    "print('Format:   ', train_with_prepared_features.shape)\n",
    "print('Min date: ', train_with_prepared_features.index.get_level_values('Date').min())\n",
    "print('Max date: ', train_with_prepared_features.index.get_level_values('Date').max())\n",
    "print('\\nTraining data after adding the target:')\n",
    "print('Format:   ', train_fully_prepared.shape)\n",
    "print('Min date: ', train_fully_prepared.index.get_level_values('Date').min())\n",
    "print('Max date: ', train_fully_prepared.index.get_level_values('Date').max())"
   ]
  },
  {
   "cell_type": "markdown",
   "metadata": {},
   "source": [
    "### Now for fitting regressors! "
   ]
  },
  {
   "cell_type": "code",
   "execution_count": 8,
   "metadata": {
    "collapsed": true
   },
   "outputs": [],
   "source": [
    "from sklearn.ensemble import RandomForestRegressor\n",
    "from sklearn.metrics import median_absolute_error, r2_score"
   ]
  },
  {
   "cell_type": "markdown",
   "metadata": {},
   "source": [
    "Let's make a small RF:  "
   ]
  },
  {
   "cell_type": "code",
   "execution_count": 9,
   "metadata": {
    "collapsed": true
   },
   "outputs": [],
   "source": [
    "rf = RandomForestRegressor(n_estimators=10, \n",
    "                      max_depth=10, \n",
    "                      n_jobs=-1)"
   ]
  },
  {
   "cell_type": "markdown",
   "metadata": {},
   "source": [
    "Define our features (because we don't want to use the categoricals for now), and target:"
   ]
  },
  {
   "cell_type": "code",
   "execution_count": 10,
   "metadata": {
    "collapsed": true
   },
   "outputs": [],
   "source": [
    "features = [\n",
    "    'Customers',\n",
    "    'DayOfWeek',\n",
    "    'Next day is Open',\n",
    "    'Next day is SchoolHoliday',\n",
    "    #'Next day is StateHoliday',\n",
    "    'Next day is a Promo',\n",
    "    'Open',\n",
    "    'Previous day sales',\n",
    "    'Promo',\n",
    "    'Sales',\n",
    "    'Sales 6 days before',\n",
    "    'SchoolHoliday',\n",
    "    #'StateHoliday'\n",
    "]\n",
    "\n",
    "target = 'Next day sales'"
   ]
  },
  {
   "cell_type": "markdown",
   "metadata": {},
   "source": [
    "Fit the model: "
   ]
  },
  {
   "cell_type": "code",
   "execution_count": 11,
   "metadata": {},
   "outputs": [
    {
     "name": "stdout",
     "output_type": "stream",
     "text": [
      "CPU times: user 17 s, sys: 227 ms, total: 17.2 s\n",
      "Wall time: 6.81 s\n"
     ]
    },
    {
     "data": {
      "text/plain": [
       "RandomForestRegressor(bootstrap=True, criterion='mse', max_depth=10,\n",
       "           max_features='auto', max_leaf_nodes=None,\n",
       "           min_impurity_decrease=0.0, min_impurity_split=None,\n",
       "           min_samples_leaf=1, min_samples_split=2,\n",
       "           min_weight_fraction_leaf=0.0, n_estimators=10, n_jobs=-1,\n",
       "           oob_score=False, random_state=None, verbose=0, warm_start=False)"
      ]
     },
     "execution_count": 11,
     "metadata": {},
     "output_type": "execute_result"
    }
   ],
   "source": [
    "%%time \n",
    "rf.fit(X=train_fully_prepared[features], \n",
    "       y=train_fully_prepared[target]);"
   ]
  },
  {
   "cell_type": "markdown",
   "metadata": {},
   "source": [
    "Let's get the day before the one we want to predict: "
   ]
  },
  {
   "cell_type": "code",
   "execution_count": 12,
   "metadata": {},
   "outputs": [
    {
     "name": "stdout",
     "output_type": "stream",
     "text": [
      "2015-05-29 00:00:00\n"
     ]
    }
   ],
   "source": [
    "last_day_we_have = pd.to_datetime(train['Date'],   # <--- notice this is the \"raw\" training set \n",
    "                                  format='%Y-%m-%d').max()\n",
    "\n",
    "print(last_day_we_have)"
   ]
  },
  {
   "cell_type": "markdown",
   "metadata": {},
   "source": [
    "Let's get the data on that day: "
   ]
  },
  {
   "cell_type": "code",
   "execution_count": 13,
   "metadata": {
    "collapsed": true
   },
   "outputs": [],
   "source": [
    "# note how we use train_with_prepared_features here, because train_fully_prepared does not have the last day\n",
    "last_day_data = train_with_prepared_features.xs(last_day_we_have, \n",
    "                                                level='Date')"
   ]
  },
  {
   "cell_type": "markdown",
   "metadata": {},
   "source": [
    "... and predict the sales on the next day! (remember, we didn't actually have a target for this day) "
   ]
  },
  {
   "cell_type": "code",
   "execution_count": 14,
   "metadata": {
    "collapsed": true
   },
   "outputs": [],
   "source": [
    "last_day_data['Predictions for next day'] = rf.predict(last_day_data[features])"
   ]
  },
  {
   "cell_type": "markdown",
   "metadata": {},
   "source": [
    "Quick glance: "
   ]
  },
  {
   "cell_type": "code",
   "execution_count": 15,
   "metadata": {},
   "outputs": [
    {
     "data": {
      "text/html": [
       "<div>\n",
       "<style>\n",
       "    .dataframe thead tr:only-child th {\n",
       "        text-align: right;\n",
       "    }\n",
       "\n",
       "    .dataframe thead th {\n",
       "        text-align: left;\n",
       "    }\n",
       "\n",
       "    .dataframe tbody tr th {\n",
       "        vertical-align: top;\n",
       "    }\n",
       "</style>\n",
       "<table border=\"1\" class=\"dataframe\">\n",
       "  <thead>\n",
       "    <tr style=\"text-align: right;\">\n",
       "      <th></th>\n",
       "      <th>Sales</th>\n",
       "      <th>Predictions for next day</th>\n",
       "    </tr>\n",
       "    <tr>\n",
       "      <th>Store</th>\n",
       "      <th></th>\n",
       "      <th></th>\n",
       "    </tr>\n",
       "  </thead>\n",
       "  <tbody>\n",
       "    <tr>\n",
       "      <th>1</th>\n",
       "      <td>4656</td>\n",
       "      <td>4345.712333</td>\n",
       "    </tr>\n",
       "    <tr>\n",
       "      <th>2</th>\n",
       "      <td>4541</td>\n",
       "      <td>2862.589966</td>\n",
       "    </tr>\n",
       "    <tr>\n",
       "      <th>3</th>\n",
       "      <td>7421</td>\n",
       "      <td>4816.565403</td>\n",
       "    </tr>\n",
       "    <tr>\n",
       "      <th>4</th>\n",
       "      <td>10529</td>\n",
       "      <td>10035.137425</td>\n",
       "    </tr>\n",
       "    <tr>\n",
       "      <th>6</th>\n",
       "      <td>5435</td>\n",
       "      <td>3251.757914</td>\n",
       "    </tr>\n",
       "  </tbody>\n",
       "</table>\n",
       "</div>"
      ],
      "text/plain": [
       "       Sales  Predictions for next day\n",
       "Store                                 \n",
       "1       4656               4345.712333\n",
       "2       4541               2862.589966\n",
       "3       7421               4816.565403\n",
       "4      10529              10035.137425\n",
       "6       5435               3251.757914"
      ]
     },
     "execution_count": 15,
     "metadata": {},
     "output_type": "execute_result"
    }
   ],
   "source": [
    "last_day_data[['Sales', 'Predictions for next day']].head()"
   ]
  },
  {
   "cell_type": "markdown",
   "metadata": {},
   "source": [
    "# How well did we do ?"
   ]
  },
  {
   "cell_type": "markdown",
   "metadata": {},
   "source": [
    "Let's import some new data then! "
   ]
  },
  {
   "cell_type": "code",
   "execution_count": 16,
   "metadata": {
    "collapsed": true
   },
   "outputs": [],
   "source": [
    "future = pd.read_csv('../data/sales_data_recent.csv', low_memory=False)"
   ]
  },
  {
   "cell_type": "markdown",
   "metadata": {},
   "source": [
    "Do we have the next day? "
   ]
  },
  {
   "cell_type": "code",
   "execution_count": 17,
   "metadata": {},
   "outputs": [
    {
     "name": "stdout",
     "output_type": "stream",
     "text": [
      "2015-05-30 00:00:00\n"
     ]
    }
   ],
   "source": [
    "day_we_predicted = last_day_we_have + pd.offsets.Day(1)\n",
    "print(day_we_predicted)"
   ]
  },
  {
   "cell_type": "code",
   "execution_count": 18,
   "metadata": {
    "collapsed": true
   },
   "outputs": [],
   "source": [
    "future_prepared_index = prepare_index(future)"
   ]
  },
  {
   "cell_type": "code",
   "execution_count": 19,
   "metadata": {},
   "outputs": [
    {
     "data": {
      "text/html": [
       "<div>\n",
       "<style>\n",
       "    .dataframe thead tr:only-child th {\n",
       "        text-align: right;\n",
       "    }\n",
       "\n",
       "    .dataframe thead th {\n",
       "        text-align: left;\n",
       "    }\n",
       "\n",
       "    .dataframe tbody tr th {\n",
       "        vertical-align: top;\n",
       "    }\n",
       "</style>\n",
       "<table border=\"1\" class=\"dataframe\">\n",
       "  <thead>\n",
       "    <tr style=\"text-align: right;\">\n",
       "      <th></th>\n",
       "      <th></th>\n",
       "      <th>DayOfWeek</th>\n",
       "      <th>Sales</th>\n",
       "      <th>Customers</th>\n",
       "      <th>Open</th>\n",
       "      <th>Promo</th>\n",
       "      <th>StateHoliday</th>\n",
       "      <th>SchoolHoliday</th>\n",
       "      <th>Next day is SchoolHoliday</th>\n",
       "      <th>Next day is StateHoliday</th>\n",
       "      <th>Next day is a Promo</th>\n",
       "      <th>Next day is Open</th>\n",
       "    </tr>\n",
       "    <tr>\n",
       "      <th>Date</th>\n",
       "      <th>Store</th>\n",
       "      <th></th>\n",
       "      <th></th>\n",
       "      <th></th>\n",
       "      <th></th>\n",
       "      <th></th>\n",
       "      <th></th>\n",
       "      <th></th>\n",
       "      <th></th>\n",
       "      <th></th>\n",
       "      <th></th>\n",
       "      <th></th>\n",
       "    </tr>\n",
       "  </thead>\n",
       "  <tbody>\n",
       "    <tr>\n",
       "      <th rowspan=\"5\" valign=\"top\">2015-05-30</th>\n",
       "      <th>1</th>\n",
       "      <td>6</td>\n",
       "      <td>5592</td>\n",
       "      <td>580</td>\n",
       "      <td>1</td>\n",
       "      <td>0</td>\n",
       "      <td>0</td>\n",
       "      <td>0</td>\n",
       "      <td>0</td>\n",
       "      <td>0</td>\n",
       "      <td>0</td>\n",
       "      <td>0</td>\n",
       "    </tr>\n",
       "    <tr>\n",
       "      <th>2</th>\n",
       "      <td>6</td>\n",
       "      <td>3447</td>\n",
       "      <td>513</td>\n",
       "      <td>1</td>\n",
       "      <td>0</td>\n",
       "      <td>0</td>\n",
       "      <td>0</td>\n",
       "      <td>0</td>\n",
       "      <td>0</td>\n",
       "      <td>0</td>\n",
       "      <td>0</td>\n",
       "    </tr>\n",
       "    <tr>\n",
       "      <th>3</th>\n",
       "      <td>6</td>\n",
       "      <td>4542</td>\n",
       "      <td>458</td>\n",
       "      <td>1</td>\n",
       "      <td>0</td>\n",
       "      <td>0</td>\n",
       "      <td>0</td>\n",
       "      <td>0</td>\n",
       "      <td>0</td>\n",
       "      <td>0</td>\n",
       "      <td>0</td>\n",
       "    </tr>\n",
       "    <tr>\n",
       "      <th>4</th>\n",
       "      <td>6</td>\n",
       "      <td>12187</td>\n",
       "      <td>1590</td>\n",
       "      <td>1</td>\n",
       "      <td>0</td>\n",
       "      <td>0</td>\n",
       "      <td>0</td>\n",
       "      <td>0</td>\n",
       "      <td>0</td>\n",
       "      <td>0</td>\n",
       "      <td>0</td>\n",
       "    </tr>\n",
       "    <tr>\n",
       "      <th>6</th>\n",
       "      <td>6</td>\n",
       "      <td>3756</td>\n",
       "      <td>394</td>\n",
       "      <td>1</td>\n",
       "      <td>0</td>\n",
       "      <td>0</td>\n",
       "      <td>0</td>\n",
       "      <td>0</td>\n",
       "      <td>0</td>\n",
       "      <td>0</td>\n",
       "      <td>0</td>\n",
       "    </tr>\n",
       "  </tbody>\n",
       "</table>\n",
       "</div>"
      ],
      "text/plain": [
       "                  DayOfWeek  Sales  Customers  Open  Promo StateHoliday  \\\n",
       "Date       Store                                                          \n",
       "2015-05-30 1              6   5592        580     1      0            0   \n",
       "           2              6   3447        513     1      0            0   \n",
       "           3              6   4542        458     1      0            0   \n",
       "           4              6  12187       1590     1      0            0   \n",
       "           6              6   3756        394     1      0            0   \n",
       "\n",
       "                  SchoolHoliday  Next day is SchoolHoliday  \\\n",
       "Date       Store                                             \n",
       "2015-05-30 1                  0                          0   \n",
       "           2                  0                          0   \n",
       "           3                  0                          0   \n",
       "           4                  0                          0   \n",
       "           6                  0                          0   \n",
       "\n",
       "                 Next day is StateHoliday  Next day is a Promo  \\\n",
       "Date       Store                                                 \n",
       "2015-05-30 1                            0                    0   \n",
       "           2                            0                    0   \n",
       "           3                            0                    0   \n",
       "           4                            0                    0   \n",
       "           6                            0                    0   \n",
       "\n",
       "                  Next day is Open  \n",
       "Date       Store                    \n",
       "2015-05-30 1                     0  \n",
       "           2                     0  \n",
       "           3                     0  \n",
       "           4                     0  \n",
       "           6                     0  "
      ]
     },
     "execution_count": 19,
     "metadata": {},
     "output_type": "execute_result"
    }
   ],
   "source": [
    "future_prepared_index.head()"
   ]
  },
  {
   "cell_type": "markdown",
   "metadata": {},
   "source": [
    "Notice that we didn't create a target or the features. For now, we just care about the features."
   ]
  },
  {
   "cell_type": "code",
   "execution_count": 20,
   "metadata": {
    "collapsed": true
   },
   "outputs": [],
   "source": [
    "new_day_data = future_prepared_index.xs(day_we_predicted, level='Date')"
   ]
  },
  {
   "cell_type": "markdown",
   "metadata": {},
   "source": [
    "Now for a bit of Pandas magic: we're going to concatenate the two series, on the key Store, so that we can compare them. \n",
    "\n",
    "We only want the \"`predictions for the next day`\" (on \"`last_day_data`\" ) and the \"`sales`\" of the \"`new_day_data`\""
   ]
  },
  {
   "cell_type": "code",
   "execution_count": 25,
   "metadata": {
    "collapsed": true
   },
   "outputs": [],
   "source": [
    "results = pd.concat([\n",
    "           last_day_data['Predictions for next day'],\n",
    "           new_day_data['Sales'], \n",
    "           ], \n",
    "          axis=1)"
   ]
  },
  {
   "cell_type": "code",
   "execution_count": 26,
   "metadata": {},
   "outputs": [
    {
     "data": {
      "text/html": [
       "<div>\n",
       "<style>\n",
       "    .dataframe thead tr:only-child th {\n",
       "        text-align: right;\n",
       "    }\n",
       "\n",
       "    .dataframe thead th {\n",
       "        text-align: left;\n",
       "    }\n",
       "\n",
       "    .dataframe tbody tr th {\n",
       "        vertical-align: top;\n",
       "    }\n",
       "</style>\n",
       "<table border=\"1\" class=\"dataframe\">\n",
       "  <thead>\n",
       "    <tr style=\"text-align: right;\">\n",
       "      <th></th>\n",
       "      <th>Predictions for next day</th>\n",
       "      <th>Sales</th>\n",
       "    </tr>\n",
       "    <tr>\n",
       "      <th>Store</th>\n",
       "      <th></th>\n",
       "      <th></th>\n",
       "    </tr>\n",
       "  </thead>\n",
       "  <tbody>\n",
       "    <tr>\n",
       "      <th>1</th>\n",
       "      <td>4345.712333</td>\n",
       "      <td>5592</td>\n",
       "    </tr>\n",
       "    <tr>\n",
       "      <th>2</th>\n",
       "      <td>2862.589966</td>\n",
       "      <td>3447</td>\n",
       "    </tr>\n",
       "    <tr>\n",
       "      <th>3</th>\n",
       "      <td>4816.565403</td>\n",
       "      <td>4542</td>\n",
       "    </tr>\n",
       "    <tr>\n",
       "      <th>4</th>\n",
       "      <td>10035.137425</td>\n",
       "      <td>12187</td>\n",
       "    </tr>\n",
       "    <tr>\n",
       "      <th>6</th>\n",
       "      <td>3251.757914</td>\n",
       "      <td>3756</td>\n",
       "    </tr>\n",
       "  </tbody>\n",
       "</table>\n",
       "</div>"
      ],
      "text/plain": [
       "       Predictions for next day  Sales\n",
       "Store                                 \n",
       "1                   4345.712333   5592\n",
       "2                   2862.589966   3447\n",
       "3                   4816.565403   4542\n",
       "4                  10035.137425  12187\n",
       "6                   3251.757914   3756"
      ]
     },
     "execution_count": 26,
     "metadata": {},
     "output_type": "execute_result"
    }
   ],
   "source": [
    "results.head(5)"
   ]
  },
  {
   "cell_type": "code",
   "execution_count": 27,
   "metadata": {
    "collapsed": true
   },
   "outputs": [],
   "source": [
    "from sklearn.metrics import r2_score"
   ]
  },
  {
   "cell_type": "code",
   "execution_count": 28,
   "metadata": {},
   "outputs": [
    {
     "data": {
      "text/plain": [
       "0.86244996861490997"
      ]
     },
     "execution_count": 28,
     "metadata": {},
     "output_type": "execute_result"
    }
   ],
   "source": [
    "r2_score(results['Sales'], results['Predictions for next day'])"
   ]
  },
  {
   "cell_type": "code",
   "execution_count": 29,
   "metadata": {},
   "outputs": [
    {
     "data": {
      "text/plain": [
       "<matplotlib.axes._subplots.AxesSubplot at 0x10ae313c8>"
      ]
     },
     "execution_count": 29,
     "metadata": {},
     "output_type": "execute_result"
    },
    {
     "data": {
      "image/png": "[encoded data removed]",
      "text/plain": [
       "<matplotlib.figure.Figure at 0x10ac97048>"
      ]
     },
     "metadata": {},
     "output_type": "display_data"
    }
   ],
   "source": [
    "results.plot(kind='scatter', \n",
    "             x='Sales', \n",
    "             y='Predictions for next day', \n",
    "             figsize=(16, 8))"
   ]
  },
  {
   "cell_type": "markdown",
   "metadata": {},
   "source": [
    "Great! Now by changing the feature builder and the models, we can try to do better. Obviously to discover these we need to do things in cross validation, because we can't keep looking at the test set, but we have all the tools we need! "
   ]
  }
 ],
 "metadata": {
  "kernelspec": {
   "display_name": "Python 3",
   "language": "python",
   "name": "python3"
  },
  "language_info": {
   "codemirror_mode": {
    "name": "ipython",
    "version": 3
   },
   "file_extension": ".py",
   "mimetype": "text/x-python",
   "name": "python",
   "nbconvert_exporter": "python",
   "pygments_lexer": "ipython3",
   "version": "3.4.3"
  }
 },
 "nbformat": 4,
 "nbformat_minor": 2
}
