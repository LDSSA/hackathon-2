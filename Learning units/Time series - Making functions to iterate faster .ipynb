{
 "cells": [
  {
   "cell_type": "markdown",
   "metadata": {},
   "source": [
    "Imports: "
   ]
  },
  {
   "cell_type": "code",
   "execution_count": 65,
   "metadata": {
    "collapsed": true
   },
   "outputs": [],
   "source": [
    "import pandas as pd \n",
    "% matplotlib inline \n",
    "from matplotlib import pyplot as plt \n",
    "\n",
    "from ipywidgets import interact, interactive, fixed, interact_manual\n",
    "import ipywidgets as widgets\n",
    "import seaborn as sns\n",
    "\n",
    "import warnings # this is to suppress an annoying warning from sklearn \n",
    "warnings.filterwarnings(action=\"ignore\", module=\"scipy\", message=\"^internal gelsd\")\n",
    "pd.options.mode.chained_assignment = None  # default='warn'\n",
    "\n",
    "plt.style.use('seaborn')"
   ]
  },
  {
   "cell_type": "markdown",
   "metadata": {},
   "source": [
    "Getting the raw data:"
   ]
  },
  {
   "cell_type": "code",
   "execution_count": 66,
   "metadata": {
    "collapsed": true
   },
   "outputs": [],
   "source": [
    "train = pd.read_csv('../data/sales_data.csv', \n",
    "                    low_memory=False)  # this is used to ensure that it checks the types properly "
   ]
  },
  {
   "cell_type": "markdown",
   "metadata": {},
   "source": [
    "# Understanding the data"
   ]
  },
  {
   "cell_type": "code",
   "execution_count": 67,
   "metadata": {
    "collapsed": true
   },
   "outputs": [],
   "source": [
    "def prepare_index(df):\n",
    "    df = df.copy()\n",
    "    df['Date'] = pd.to_datetime(df['Date'],      \n",
    "                                   format='%Y-%m-%d')   \n",
    "    df.set_index(['Date', 'Store'], inplace=True)      \n",
    "    df.sort_index(inplace=True)\n",
    "    return df\n",
    "\n",
    "def prepare_features(df):    \n",
    "    df = df.copy()\n",
    "    df['Previous day sales'] = df.groupby('Store')['Sales'].shift(1)    \n",
    "    df['Sales 6 days before'] = df.groupby('Store')['Sales'].shift(6)\n",
    "    \n",
    "    df.dropna(inplace=True)\n",
    "    return df\n",
    "\n",
    "def prepare_target(df):\n",
    "    df = df.copy()\n",
    "    df['Next day sales'] = df.groupby('Store')['Sales'].shift(-1)\n",
    "    df.dropna(inplace=True)\n",
    "    return df"
   ]
  },
  {
   "cell_type": "markdown",
   "metadata": {},
   "source": [
    "Let's apply all this to the training set: "
   ]
  },
  {
   "cell_type": "code",
   "execution_count": 68,
   "metadata": {
    "collapsed": true
   },
   "outputs": [],
   "source": [
    "# first the index: \n",
    "train_with_prepared_index = prepare_index(train)\n",
    "# now building some extra features \n",
    "train_with_prepared_features = prepare_features(train_with_prepared_index)\n",
    "# and finally prepare the target (because we'll need this to train)\n",
    "train_fully_prepared = prepare_target(train_with_prepared_features)"
   ]
  },
  {
   "cell_type": "markdown",
   "metadata": {},
   "source": [
    "Let's get an idea of what the data looks like: "
   ]
  },
  {
   "cell_type": "code",
   "execution_count": 69,
   "metadata": {},
   "outputs": [
    {
     "name": "stdout",
     "output_type": "stream",
     "text": [
      "Training data:\n",
      "Format:    (473922, 13)\n",
      "Min date:  2013-01-01 00:00:00\n",
      "Max date:  2015-05-29 00:00:00\n",
      "\n",
      "Training data after building features:\n",
      "Format:    (470574, 13)\n",
      "Min date:  2013-01-07 00:00:00\n",
      "Max date:  2015-05-29 00:00:00\n",
      "\n",
      "Training data after adding the target:\n",
      "Format:    (470016, 14)\n",
      "Min date:  2013-01-07 00:00:00\n",
      "Max date:  2015-05-28 00:00:00\n"
     ]
    }
   ],
   "source": [
    "print('Training data:')\n",
    "print('Format:   ', train.shape)\n",
    "print('Min date: ', train_with_prepared_index.index.get_level_values('Date').min())\n",
    "print('Max date: ', train_with_prepared_index.index.get_level_values('Date').max())\n",
    "print('\\nTraining data after building features:')\n",
    "print('Format:   ', train_with_prepared_features.shape)\n",
    "print('Min date: ', train_with_prepared_features.index.get_level_values('Date').min())\n",
    "print('Max date: ', train_with_prepared_features.index.get_level_values('Date').max())\n",
    "print('\\nTraining data after adding the target:')\n",
    "print('Format:   ', train_fully_prepared.shape)\n",
    "print('Min date: ', train_fully_prepared.index.get_level_values('Date').min())\n",
    "print('Max date: ', train_fully_prepared.index.get_level_values('Date').max())"
   ]
  },
  {
   "cell_type": "markdown",
   "metadata": {},
   "source": [
    "### Now for fitting regressors! "
   ]
  },
  {
   "cell_type": "code",
   "execution_count": 70,
   "metadata": {
    "collapsed": true
   },
   "outputs": [],
   "source": [
    "from sklearn.ensemble import RandomForestRegressor\n",
    "from sklearn.metrics import median_absolute_error, r2_score"
   ]
  },
  {
   "cell_type": "markdown",
   "metadata": {},
   "source": [
    "Let's make a small RF:  "
   ]
  },
  {
   "cell_type": "code",
   "execution_count": 71,
   "metadata": {
    "collapsed": true
   },
   "outputs": [],
   "source": [
    "rf = RandomForestRegressor(n_estimators=10, \n",
    "                      max_depth=10, \n",
    "                      n_jobs=-1)"
   ]
  },
  {
   "cell_type": "markdown",
   "metadata": {},
   "source": [
    "Define our features (because we don't want to use the categoricals for now), and target:"
   ]
  },
  {
   "cell_type": "code",
   "execution_count": 72,
   "metadata": {
    "collapsed": true
   },
   "outputs": [],
   "source": [
    "features = [\n",
    "    'Customers',\n",
    "    'DayOfWeek',\n",
    "    'Next day is Open',\n",
    "    'Next day is SchoolHoliday',\n",
    "    #'Next day is StateHoliday',\n",
    "    'Next day is a Promo',\n",
    "    'Open',\n",
    "    'Previous day sales',\n",
    "    'Promo',\n",
    "    'Sales',\n",
    "    'Sales 6 days before',\n",
    "    'SchoolHoliday',\n",
    "    #'StateHoliday'\n",
    "]\n",
    "\n",
    "target = 'Next day sales'"
   ]
  },
  {
   "cell_type": "markdown",
   "metadata": {},
   "source": [
    "Fit the model: "
   ]
  },
  {
   "cell_type": "code",
   "execution_count": 73,
   "metadata": {},
   "outputs": [
    {
     "name": "stdout",
     "output_type": "stream",
     "text": [
      "CPU times: user 17.3 s, sys: 233 ms, total: 17.5 s\n",
      "Wall time: 6.77 s\n"
     ]
    },
    {
     "data": {
      "text/plain": [
       "RandomForestRegressor(bootstrap=True, criterion='mse', max_depth=10,\n",
       "           max_features='auto', max_leaf_nodes=None,\n",
       "           min_impurity_decrease=0.0, min_impurity_split=None,\n",
       "           min_samples_leaf=1, min_samples_split=2,\n",
       "           min_weight_fraction_leaf=0.0, n_estimators=10, n_jobs=-1,\n",
       "           oob_score=False, random_state=None, verbose=0, warm_start=False)"
      ]
     },
     "execution_count": 73,
     "metadata": {},
     "output_type": "execute_result"
    }
   ],
   "source": [
    "%%time \n",
    "rf.fit(X=train_fully_prepared[features], \n",
    "       y=train_fully_prepared[target]);"
   ]
  },
  {
   "cell_type": "markdown",
   "metadata": {},
   "source": [
    "Let's get the day before the one we want to predict: "
   ]
  },
  {
   "cell_type": "code",
   "execution_count": 74,
   "metadata": {},
   "outputs": [
    {
     "name": "stdout",
     "output_type": "stream",
     "text": [
      "2015-05-29 00:00:00\n"
     ]
    }
   ],
   "source": [
    "last_day_we_have = pd.to_datetime(train['Date'],   # <--- notice this is the \"raw\" training set \n",
    "                                  format='%Y-%m-%d').max()\n",
    "\n",
    "print(last_day_we_have)"
   ]
  },
  {
   "cell_type": "markdown",
   "metadata": {},
   "source": [
    "Let's get the data on that day: "
   ]
  },
  {
   "cell_type": "code",
   "execution_count": 75,
   "metadata": {
    "collapsed": true
   },
   "outputs": [],
   "source": [
    "# note how we use train_with_prepared_features here, because train_fully_prepared does not have the last day\n",
    "last_day_data = train_with_prepared_features.xs(last_day_we_have, \n",
    "                                                level='Date')"
   ]
  },
  {
   "cell_type": "markdown",
   "metadata": {},
   "source": [
    "... and predict the sales on the next day! (remember, we didn't actually have a target for this day) "
   ]
  },
  {
   "cell_type": "code",
   "execution_count": 76,
   "metadata": {},
   "outputs": [],
   "source": [
    "last_day_data['Predictions for next day'] = rf.predict(last_day_data[features])"
   ]
  },
  {
   "cell_type": "markdown",
   "metadata": {},
   "source": [
    "Quick glance: "
   ]
  },
  {
   "cell_type": "code",
   "execution_count": 77,
   "metadata": {},
   "outputs": [
    {
     "data": {
      "text/html": [
       "<div>\n",
       "<style>\n",
       "    .dataframe thead tr:only-child th {\n",
       "        text-align: right;\n",
       "    }\n",
       "\n",
       "    .dataframe thead th {\n",
       "        text-align: left;\n",
       "    }\n",
       "\n",
       "    .dataframe tbody tr th {\n",
       "        vertical-align: top;\n",
       "    }\n",
       "</style>\n",
       "<table border=\"1\" class=\"dataframe\">\n",
       "  <thead>\n",
       "    <tr style=\"text-align: right;\">\n",
       "      <th></th>\n",
       "      <th>Sales</th>\n",
       "      <th>Predictions for next day</th>\n",
       "    </tr>\n",
       "    <tr>\n",
       "      <th>Store</th>\n",
       "      <th></th>\n",
       "      <th></th>\n",
       "    </tr>\n",
       "  </thead>\n",
       "  <tbody>\n",
       "    <tr>\n",
       "      <th>1</th>\n",
       "      <td>4656</td>\n",
       "      <td>4435.090368</td>\n",
       "    </tr>\n",
       "    <tr>\n",
       "      <th>2</th>\n",
       "      <td>4541</td>\n",
       "      <td>2916.135999</td>\n",
       "    </tr>\n",
       "    <tr>\n",
       "      <th>3</th>\n",
       "      <td>7421</td>\n",
       "      <td>4922.285900</td>\n",
       "    </tr>\n",
       "    <tr>\n",
       "      <th>4</th>\n",
       "      <td>10529</td>\n",
       "      <td>9834.474985</td>\n",
       "    </tr>\n",
       "    <tr>\n",
       "      <th>6</th>\n",
       "      <td>5435</td>\n",
       "      <td>3232.746382</td>\n",
       "    </tr>\n",
       "  </tbody>\n",
       "</table>\n",
       "</div>"
      ],
      "text/plain": [
       "       Sales  Predictions for next day\n",
       "Store                                 \n",
       "1       4656               4435.090368\n",
       "2       4541               2916.135999\n",
       "3       7421               4922.285900\n",
       "4      10529               9834.474985\n",
       "6       5435               3232.746382"
      ]
     },
     "execution_count": 77,
     "metadata": {},
     "output_type": "execute_result"
    }
   ],
   "source": [
    "last_day_data[['Sales', 'Predictions for next day']].head()"
   ]
  },
  {
   "cell_type": "markdown",
   "metadata": {},
   "source": [
    "# How well did we do ?"
   ]
  },
  {
   "cell_type": "markdown",
   "metadata": {},
   "source": [
    "Let's import some new data then! "
   ]
  },
  {
   "cell_type": "code",
   "execution_count": 78,
   "metadata": {
    "collapsed": true
   },
   "outputs": [],
   "source": [
    "future = pd.read_csv('../data/sales_data_recent.csv', low_memory=False)"
   ]
  },
  {
   "cell_type": "markdown",
   "metadata": {},
   "source": [
    "Do we have the next day? "
   ]
  },
  {
   "cell_type": "code",
   "execution_count": 79,
   "metadata": {},
   "outputs": [
    {
     "name": "stdout",
     "output_type": "stream",
     "text": [
      "2015-05-30 00:00:00\n"
     ]
    }
   ],
   "source": [
    "day_we_predicted = last_day_we_have + pd.offsets.Day(1)\n",
    "print(day_we_predicted)"
   ]
  },
  {
   "cell_type": "code",
   "execution_count": 80,
   "metadata": {
    "collapsed": true
   },
   "outputs": [],
   "source": [
    "future_prepared_index = prepare_index(future)"
   ]
  },
  {
   "cell_type": "code",
   "execution_count": 81,
   "metadata": {},
   "outputs": [
    {
     "data": {
      "text/html": [
       "<div>\n",
       "<style>\n",
       "    .dataframe thead tr:only-child th {\n",
       "        text-align: right;\n",
       "    }\n",
       "\n",
       "    .dataframe thead th {\n",
       "        text-align: left;\n",
       "    }\n",
       "\n",
       "    .dataframe tbody tr th {\n",
       "        vertical-align: top;\n",
       "    }\n",
       "</style>\n",
       "<table border=\"1\" class=\"dataframe\">\n",
       "  <thead>\n",
       "    <tr style=\"text-align: right;\">\n",
       "      <th></th>\n",
       "      <th></th>\n",
       "      <th>DayOfWeek</th>\n",
       "      <th>Sales</th>\n",
       "      <th>Customers</th>\n",
       "      <th>Open</th>\n",
       "      <th>Promo</th>\n",
       "      <th>StateHoliday</th>\n",
       "      <th>SchoolHoliday</th>\n",
       "      <th>Next day is SchoolHoliday</th>\n",
       "      <th>Next day is StateHoliday</th>\n",
       "      <th>Next day is a Promo</th>\n",
       "      <th>Next day is Open</th>\n",
       "    </tr>\n",
       "    <tr>\n",
       "      <th>Date</th>\n",
       "      <th>Store</th>\n",
       "      <th></th>\n",
       "      <th></th>\n",
       "      <th></th>\n",
       "      <th></th>\n",
       "      <th></th>\n",
       "      <th></th>\n",
       "      <th></th>\n",
       "      <th></th>\n",
       "      <th></th>\n",
       "      <th></th>\n",
       "      <th></th>\n",
       "    </tr>\n",
       "  </thead>\n",
       "  <tbody>\n",
       "    <tr>\n",
       "      <th rowspan=\"5\" valign=\"top\">2015-05-30</th>\n",
       "      <th>1</th>\n",
       "      <td>6</td>\n",
       "      <td>5592</td>\n",
       "      <td>580</td>\n",
       "      <td>1</td>\n",
       "      <td>0</td>\n",
       "      <td>0</td>\n",
       "      <td>0</td>\n",
       "      <td>0</td>\n",
       "      <td>0</td>\n",
       "      <td>0</td>\n",
       "      <td>0</td>\n",
       "    </tr>\n",
       "    <tr>\n",
       "      <th>2</th>\n",
       "      <td>6</td>\n",
       "      <td>3447</td>\n",
       "      <td>513</td>\n",
       "      <td>1</td>\n",
       "      <td>0</td>\n",
       "      <td>0</td>\n",
       "      <td>0</td>\n",
       "      <td>0</td>\n",
       "      <td>0</td>\n",
       "      <td>0</td>\n",
       "      <td>0</td>\n",
       "    </tr>\n",
       "    <tr>\n",
       "      <th>3</th>\n",
       "      <td>6</td>\n",
       "      <td>4542</td>\n",
       "      <td>458</td>\n",
       "      <td>1</td>\n",
       "      <td>0</td>\n",
       "      <td>0</td>\n",
       "      <td>0</td>\n",
       "      <td>0</td>\n",
       "      <td>0</td>\n",
       "      <td>0</td>\n",
       "      <td>0</td>\n",
       "    </tr>\n",
       "    <tr>\n",
       "      <th>4</th>\n",
       "      <td>6</td>\n",
       "      <td>12187</td>\n",
       "      <td>1590</td>\n",
       "      <td>1</td>\n",
       "      <td>0</td>\n",
       "      <td>0</td>\n",
       "      <td>0</td>\n",
       "      <td>0</td>\n",
       "      <td>0</td>\n",
       "      <td>0</td>\n",
       "      <td>0</td>\n",
       "    </tr>\n",
       "    <tr>\n",
       "      <th>6</th>\n",
       "      <td>6</td>\n",
       "      <td>3756</td>\n",
       "      <td>394</td>\n",
       "      <td>1</td>\n",
       "      <td>0</td>\n",
       "      <td>0</td>\n",
       "      <td>0</td>\n",
       "      <td>0</td>\n",
       "      <td>0</td>\n",
       "      <td>0</td>\n",
       "      <td>0</td>\n",
       "    </tr>\n",
       "  </tbody>\n",
       "</table>\n",
       "</div>"
      ],
      "text/plain": [
       "                  DayOfWeek  Sales  Customers  Open  Promo StateHoliday  \\\n",
       "Date       Store                                                          \n",
       "2015-05-30 1              6   5592        580     1      0            0   \n",
       "           2              6   3447        513     1      0            0   \n",
       "           3              6   4542        458     1      0            0   \n",
       "           4              6  12187       1590     1      0            0   \n",
       "           6              6   3756        394     1      0            0   \n",
       "\n",
       "                  SchoolHoliday  Next day is SchoolHoliday  \\\n",
       "Date       Store                                             \n",
       "2015-05-30 1                  0                          0   \n",
       "           2                  0                          0   \n",
       "           3                  0                          0   \n",
       "           4                  0                          0   \n",
       "           6                  0                          0   \n",
       "\n",
       "                 Next day is StateHoliday  Next day is a Promo  \\\n",
       "Date       Store                                                 \n",
       "2015-05-30 1                            0                    0   \n",
       "           2                            0                    0   \n",
       "           3                            0                    0   \n",
       "           4                            0                    0   \n",
       "           6                            0                    0   \n",
       "\n",
       "                  Next day is Open  \n",
       "Date       Store                    \n",
       "2015-05-30 1                     0  \n",
       "           2                     0  \n",
       "           3                     0  \n",
       "           4                     0  \n",
       "           6                     0  "
      ]
     },
     "execution_count": 81,
     "metadata": {},
     "output_type": "execute_result"
    }
   ],
   "source": [
    "future_prepared_index.head()"
   ]
  },
  {
   "cell_type": "markdown",
   "metadata": {},
   "source": [
    "Notice that we didn't create a target or the features. For now, we just care about the features."
   ]
  },
  {
   "cell_type": "code",
   "execution_count": 82,
   "metadata": {
    "collapsed": true
   },
   "outputs": [],
   "source": [
    "new_day_data = future_prepared_index.xs(day_we_predicted, level='Date')"
   ]
  },
  {
   "cell_type": "markdown",
   "metadata": {},
   "source": [
    "Now for a bit of Pandas magic: we're going to concatenate the two series, on the key Store, so that we can compare them: "
   ]
  },
  {
   "cell_type": "code",
   "execution_count": 83,
   "metadata": {},
   "outputs": [
    {
     "data": {
      "text/plain": [
       "(558, 11)"
      ]
     },
     "execution_count": 83,
     "metadata": {},
     "output_type": "execute_result"
    }
   ],
   "source": [
    "new_day_data.shape"
   ]
  },
  {
   "cell_type": "code",
   "execution_count": 84,
   "metadata": {},
   "outputs": [
    {
     "data": {
      "text/html": [
       "<div>\n",
       "<style>\n",
       "    .dataframe thead tr:only-child th {\n",
       "        text-align: right;\n",
       "    }\n",
       "\n",
       "    .dataframe thead th {\n",
       "        text-align: left;\n",
       "    }\n",
       "\n",
       "    .dataframe tbody tr th {\n",
       "        vertical-align: top;\n",
       "    }\n",
       "</style>\n",
       "<table border=\"1\" class=\"dataframe\">\n",
       "  <thead>\n",
       "    <tr style=\"text-align: right;\">\n",
       "      <th></th>\n",
       "      <th>DayOfWeek</th>\n",
       "      <th>Sales</th>\n",
       "      <th>Customers</th>\n",
       "      <th>Open</th>\n",
       "      <th>Promo</th>\n",
       "      <th>StateHoliday</th>\n",
       "      <th>SchoolHoliday</th>\n",
       "      <th>Next day is SchoolHoliday</th>\n",
       "      <th>Next day is StateHoliday</th>\n",
       "      <th>Next day is a Promo</th>\n",
       "      <th>Next day is Open</th>\n",
       "    </tr>\n",
       "    <tr>\n",
       "      <th>Store</th>\n",
       "      <th></th>\n",
       "      <th></th>\n",
       "      <th></th>\n",
       "      <th></th>\n",
       "      <th></th>\n",
       "      <th></th>\n",
       "      <th></th>\n",
       "      <th></th>\n",
       "      <th></th>\n",
       "      <th></th>\n",
       "      <th></th>\n",
       "    </tr>\n",
       "  </thead>\n",
       "  <tbody>\n",
       "    <tr>\n",
       "      <th>1</th>\n",
       "      <td>6</td>\n",
       "      <td>5592</td>\n",
       "      <td>580</td>\n",
       "      <td>1</td>\n",
       "      <td>0</td>\n",
       "      <td>0</td>\n",
       "      <td>0</td>\n",
       "      <td>0</td>\n",
       "      <td>0</td>\n",
       "      <td>0</td>\n",
       "      <td>0</td>\n",
       "    </tr>\n",
       "    <tr>\n",
       "      <th>2</th>\n",
       "      <td>6</td>\n",
       "      <td>3447</td>\n",
       "      <td>513</td>\n",
       "      <td>1</td>\n",
       "      <td>0</td>\n",
       "      <td>0</td>\n",
       "      <td>0</td>\n",
       "      <td>0</td>\n",
       "      <td>0</td>\n",
       "      <td>0</td>\n",
       "      <td>0</td>\n",
       "    </tr>\n",
       "    <tr>\n",
       "      <th>3</th>\n",
       "      <td>6</td>\n",
       "      <td>4542</td>\n",
       "      <td>458</td>\n",
       "      <td>1</td>\n",
       "      <td>0</td>\n",
       "      <td>0</td>\n",
       "      <td>0</td>\n",
       "      <td>0</td>\n",
       "      <td>0</td>\n",
       "      <td>0</td>\n",
       "      <td>0</td>\n",
       "    </tr>\n",
       "    <tr>\n",
       "      <th>4</th>\n",
       "      <td>6</td>\n",
       "      <td>12187</td>\n",
       "      <td>1590</td>\n",
       "      <td>1</td>\n",
       "      <td>0</td>\n",
       "      <td>0</td>\n",
       "      <td>0</td>\n",
       "      <td>0</td>\n",
       "      <td>0</td>\n",
       "      <td>0</td>\n",
       "      <td>0</td>\n",
       "    </tr>\n",
       "    <tr>\n",
       "      <th>6</th>\n",
       "      <td>6</td>\n",
       "      <td>3756</td>\n",
       "      <td>394</td>\n",
       "      <td>1</td>\n",
       "      <td>0</td>\n",
       "      <td>0</td>\n",
       "      <td>0</td>\n",
       "      <td>0</td>\n",
       "      <td>0</td>\n",
       "      <td>0</td>\n",
       "      <td>0</td>\n",
       "    </tr>\n",
       "  </tbody>\n",
       "</table>\n",
       "</div>"
      ],
      "text/plain": [
       "       DayOfWeek  Sales  Customers  Open  Promo StateHoliday  SchoolHoliday  \\\n",
       "Store                                                                         \n",
       "1              6   5592        580     1      0            0              0   \n",
       "2              6   3447        513     1      0            0              0   \n",
       "3              6   4542        458     1      0            0              0   \n",
       "4              6  12187       1590     1      0            0              0   \n",
       "6              6   3756        394     1      0            0              0   \n",
       "\n",
       "       Next day is SchoolHoliday Next day is StateHoliday  \\\n",
       "Store                                                       \n",
       "1                              0                        0   \n",
       "2                              0                        0   \n",
       "3                              0                        0   \n",
       "4                              0                        0   \n",
       "6                              0                        0   \n",
       "\n",
       "       Next day is a Promo  Next day is Open  \n",
       "Store                                         \n",
       "1                        0                 0  \n",
       "2                        0                 0  \n",
       "3                        0                 0  \n",
       "4                        0                 0  \n",
       "6                        0                 0  "
      ]
     },
     "execution_count": 84,
     "metadata": {},
     "output_type": "execute_result"
    }
   ],
   "source": [
    "new_day_data.head()"
   ]
  },
  {
   "cell_type": "code",
   "execution_count": 85,
   "metadata": {},
   "outputs": [
    {
     "data": {
      "text/plain": [
       "(558, 14)"
      ]
     },
     "execution_count": 85,
     "metadata": {},
     "output_type": "execute_result"
    }
   ],
   "source": [
    "last_day_data.shape"
   ]
  },
  {
   "cell_type": "code",
   "execution_count": 86,
   "metadata": {},
   "outputs": [
    {
     "data": {
      "text/html": [
       "<div>\n",
       "<style>\n",
       "    .dataframe thead tr:only-child th {\n",
       "        text-align: right;\n",
       "    }\n",
       "\n",
       "    .dataframe thead th {\n",
       "        text-align: left;\n",
       "    }\n",
       "\n",
       "    .dataframe tbody tr th {\n",
       "        vertical-align: top;\n",
       "    }\n",
       "</style>\n",
       "<table border=\"1\" class=\"dataframe\">\n",
       "  <thead>\n",
       "    <tr style=\"text-align: right;\">\n",
       "      <th></th>\n",
       "      <th>DayOfWeek</th>\n",
       "      <th>Sales</th>\n",
       "      <th>Customers</th>\n",
       "      <th>Open</th>\n",
       "      <th>Promo</th>\n",
       "      <th>StateHoliday</th>\n",
       "      <th>SchoolHoliday</th>\n",
       "      <th>Next day is SchoolHoliday</th>\n",
       "      <th>Next day is StateHoliday</th>\n",
       "      <th>Next day is a Promo</th>\n",
       "      <th>Next day is Open</th>\n",
       "      <th>Previous day sales</th>\n",
       "      <th>Sales 6 days before</th>\n",
       "      <th>Predictions for next day</th>\n",
       "    </tr>\n",
       "    <tr>\n",
       "      <th>Store</th>\n",
       "      <th></th>\n",
       "      <th></th>\n",
       "      <th></th>\n",
       "      <th></th>\n",
       "      <th></th>\n",
       "      <th></th>\n",
       "      <th></th>\n",
       "      <th></th>\n",
       "      <th></th>\n",
       "      <th></th>\n",
       "      <th></th>\n",
       "      <th></th>\n",
       "      <th></th>\n",
       "      <th></th>\n",
       "    </tr>\n",
       "  </thead>\n",
       "  <tbody>\n",
       "    <tr>\n",
       "      <th>1</th>\n",
       "      <td>5</td>\n",
       "      <td>4656</td>\n",
       "      <td>537</td>\n",
       "      <td>1</td>\n",
       "      <td>0</td>\n",
       "      <td>0</td>\n",
       "      <td>0</td>\n",
       "      <td>0</td>\n",
       "      <td>0</td>\n",
       "      <td>0</td>\n",
       "      <td>1</td>\n",
       "      <td>4111.0</td>\n",
       "      <td>4276.0</td>\n",
       "      <td>4435.090368</td>\n",
       "    </tr>\n",
       "    <tr>\n",
       "      <th>2</th>\n",
       "      <td>5</td>\n",
       "      <td>4541</td>\n",
       "      <td>576</td>\n",
       "      <td>1</td>\n",
       "      <td>0</td>\n",
       "      <td>0</td>\n",
       "      <td>0</td>\n",
       "      <td>0</td>\n",
       "      <td>0</td>\n",
       "      <td>0</td>\n",
       "      <td>1</td>\n",
       "      <td>4049.0</td>\n",
       "      <td>2732.0</td>\n",
       "      <td>2916.135999</td>\n",
       "    </tr>\n",
       "    <tr>\n",
       "      <th>3</th>\n",
       "      <td>5</td>\n",
       "      <td>7421</td>\n",
       "      <td>793</td>\n",
       "      <td>1</td>\n",
       "      <td>0</td>\n",
       "      <td>0</td>\n",
       "      <td>0</td>\n",
       "      <td>0</td>\n",
       "      <td>0</td>\n",
       "      <td>0</td>\n",
       "      <td>1</td>\n",
       "      <td>6475.0</td>\n",
       "      <td>4613.0</td>\n",
       "      <td>4922.285900</td>\n",
       "    </tr>\n",
       "    <tr>\n",
       "      <th>4</th>\n",
       "      <td>5</td>\n",
       "      <td>10529</td>\n",
       "      <td>1366</td>\n",
       "      <td>1</td>\n",
       "      <td>0</td>\n",
       "      <td>0</td>\n",
       "      <td>0</td>\n",
       "      <td>0</td>\n",
       "      <td>0</td>\n",
       "      <td>0</td>\n",
       "      <td>1</td>\n",
       "      <td>8550.0</td>\n",
       "      <td>10118.0</td>\n",
       "      <td>9834.474985</td>\n",
       "    </tr>\n",
       "    <tr>\n",
       "      <th>6</th>\n",
       "      <td>5</td>\n",
       "      <td>5435</td>\n",
       "      <td>612</td>\n",
       "      <td>1</td>\n",
       "      <td>0</td>\n",
       "      <td>0</td>\n",
       "      <td>0</td>\n",
       "      <td>0</td>\n",
       "      <td>0</td>\n",
       "      <td>0</td>\n",
       "      <td>1</td>\n",
       "      <td>4754.0</td>\n",
       "      <td>3253.0</td>\n",
       "      <td>3232.746382</td>\n",
       "    </tr>\n",
       "  </tbody>\n",
       "</table>\n",
       "</div>"
      ],
      "text/plain": [
       "       DayOfWeek  Sales  Customers  Open  Promo StateHoliday  SchoolHoliday  \\\n",
       "Store                                                                         \n",
       "1              5   4656        537     1      0            0              0   \n",
       "2              5   4541        576     1      0            0              0   \n",
       "3              5   7421        793     1      0            0              0   \n",
       "4              5  10529       1366     1      0            0              0   \n",
       "6              5   5435        612     1      0            0              0   \n",
       "\n",
       "       Next day is SchoolHoliday Next day is StateHoliday  \\\n",
       "Store                                                       \n",
       "1                              0                        0   \n",
       "2                              0                        0   \n",
       "3                              0                        0   \n",
       "4                              0                        0   \n",
       "6                              0                        0   \n",
       "\n",
       "       Next day is a Promo  Next day is Open  Previous day sales  \\\n",
       "Store                                                              \n",
       "1                        0                 1              4111.0   \n",
       "2                        0                 1              4049.0   \n",
       "3                        0                 1              6475.0   \n",
       "4                        0                 1              8550.0   \n",
       "6                        0                 1              4754.0   \n",
       "\n",
       "       Sales 6 days before  Predictions for next day  \n",
       "Store                                                 \n",
       "1                   4276.0               4435.090368  \n",
       "2                   2732.0               2916.135999  \n",
       "3                   4613.0               4922.285900  \n",
       "4                  10118.0               9834.474985  \n",
       "6                   3253.0               3232.746382  "
      ]
     },
     "execution_count": 86,
     "metadata": {},
     "output_type": "execute_result"
    }
   ],
   "source": [
    "last_day_data.head()"
   ]
  },
  {
   "cell_type": "markdown",
   "metadata": {},
   "source": [
    "We only want the \"`predictions for the next day`\" (on \"`last_day_data`\" ) and the \"`sales`\" of the \"`new_day_data`\""
   ]
  },
  {
   "cell_type": "code",
   "execution_count": 87,
   "metadata": {},
   "outputs": [],
   "source": [
    "results = pd.concat([\n",
    "           last_day_data['Predictions for next day'],\n",
    "           new_day_data['Sales'], \n",
    "           ], \n",
    "          axis=1)"
   ]
  },
  {
   "cell_type": "code",
   "execution_count": 88,
   "metadata": {},
   "outputs": [
    {
     "data": {
      "text/html": [
       "<div>\n",
       "<style>\n",
       "    .dataframe thead tr:only-child th {\n",
       "        text-align: right;\n",
       "    }\n",
       "\n",
       "    .dataframe thead th {\n",
       "        text-align: left;\n",
       "    }\n",
       "\n",
       "    .dataframe tbody tr th {\n",
       "        vertical-align: top;\n",
       "    }\n",
       "</style>\n",
       "<table border=\"1\" class=\"dataframe\">\n",
       "  <thead>\n",
       "    <tr style=\"text-align: right;\">\n",
       "      <th></th>\n",
       "      <th>Predictions for next day</th>\n",
       "      <th>Sales</th>\n",
       "    </tr>\n",
       "    <tr>\n",
       "      <th>Store</th>\n",
       "      <th></th>\n",
       "      <th></th>\n",
       "    </tr>\n",
       "  </thead>\n",
       "  <tbody>\n",
       "    <tr>\n",
       "      <th>1</th>\n",
       "      <td>4435.090368</td>\n",
       "      <td>5592</td>\n",
       "    </tr>\n",
       "    <tr>\n",
       "      <th>2</th>\n",
       "      <td>2916.135999</td>\n",
       "      <td>3447</td>\n",
       "    </tr>\n",
       "    <tr>\n",
       "      <th>3</th>\n",
       "      <td>4922.285900</td>\n",
       "      <td>4542</td>\n",
       "    </tr>\n",
       "    <tr>\n",
       "      <th>4</th>\n",
       "      <td>9834.474985</td>\n",
       "      <td>12187</td>\n",
       "    </tr>\n",
       "    <tr>\n",
       "      <th>6</th>\n",
       "      <td>3232.746382</td>\n",
       "      <td>3756</td>\n",
       "    </tr>\n",
       "  </tbody>\n",
       "</table>\n",
       "</div>"
      ],
      "text/plain": [
       "       Predictions for next day  Sales\n",
       "Store                                 \n",
       "1                   4435.090368   5592\n",
       "2                   2916.135999   3447\n",
       "3                   4922.285900   4542\n",
       "4                   9834.474985  12187\n",
       "6                   3232.746382   3756"
      ]
     },
     "execution_count": 88,
     "metadata": {},
     "output_type": "execute_result"
    }
   ],
   "source": [
    "results.head(5)"
   ]
  },
  {
   "cell_type": "code",
   "execution_count": 89,
   "metadata": {
    "collapsed": true
   },
   "outputs": [],
   "source": [
    "from sklearn.metrics import r2_score"
   ]
  },
  {
   "cell_type": "code",
   "execution_count": 90,
   "metadata": {},
   "outputs": [
    {
     "data": {
      "text/plain": [
       "0.85817618240024407"
      ]
     },
     "execution_count": 90,
     "metadata": {},
     "output_type": "execute_result"
    }
   ],
   "source": [
    "r2_score(results['Sales'], results['Predictions for next day'])"
   ]
  },
  {
   "cell_type": "code",
   "execution_count": 91,
   "metadata": {},
   "outputs": [
    {
     "data": {
      "text/plain": [
       "<matplotlib.axes._subplots.AxesSubplot at 0x10d4e05f8>"
      ]
     },
     "execution_count": 91,
     "metadata": {},
     "output_type": "execute_result"
    },
    {
     "data": {
      "image/png": "[encoded data removed]",
      "text/plain": [
       "<matplotlib.figure.Figure at 0x10d340390>"
      ]
     },
     "metadata": {},
     "output_type": "display_data"
    }
   ],
   "source": [
    "results.plot(kind='scatter', \n",
    "             x='Sales', \n",
    "             y='Predictions for next day', \n",
    "             figsize=(16, 8))"
   ]
  },
  {
   "cell_type": "markdown",
   "metadata": {},
   "source": [
    "Now, to put it all together into functions. "
   ]
  },
  {
   "cell_type": "markdown",
   "metadata": {},
   "source": [
    "# Making the whole thing parametrized: "
   ]
  },
  {
   "cell_type": "markdown",
   "metadata": {},
   "source": [
    "We're going to build new features, but we might want to avoid having to update the feature list, so let's use this: "
   ]
  },
  {
   "cell_type": "code",
   "execution_count": 108,
   "metadata": {
    "collapsed": true
   },
   "outputs": [],
   "source": [
    "def get_feature_names(prepared_train):\n",
    "    not_features = ['StateHoliday', 'Next day is StateHoliday', 'target']\n",
    "\n",
    "    features = [col for col in prepared_train.columns if\n",
    "            col not in not_features]\n",
    "    \n",
    "    return features"
   ]
  },
  {
   "cell_type": "code",
   "execution_count": 109,
   "metadata": {
    "collapsed": true
   },
   "outputs": [],
   "source": [
    "def prepare_index(df):\n",
    "    df = df.copy()\n",
    "    df['Date'] = pd.to_datetime(df['Date'],      \n",
    "                                   format='%Y-%m-%d')   \n",
    "    df.set_index(['Date', 'Store'], inplace=True)      \n",
    "    df.sort_index(inplace=True)\n",
    "    return df\n",
    "\n",
    "def prepare_features(df):    \n",
    "    df = df.copy()\n",
    "    df['Previous day sales'] = df.groupby('Store')['Sales'].shift(1)    \n",
    "    df['Sales 6 days before'] = df.groupby('Store')['Sales'].shift(6)\n",
    "    \n",
    "    df.dropna(inplace=True)\n",
    "    return df\n"
   ]
  },
  {
   "cell_type": "code",
   "execution_count": 110,
   "metadata": {
    "collapsed": true
   },
   "outputs": [],
   "source": [
    "def fully_prepare_train(raw_train):\n",
    "    prepared_train = prepare_features(prepare_index(raw_train))  # <-- prepare the training set \n",
    "    feature_names = get_feature_names(prepared_train)\n",
    "    prepared_train_with_target = get_train_target(prepared_train)\n",
    "    return prepared_train_with_target, feature_names"
   ]
  },
  {
   "cell_type": "code",
   "execution_count": 111,
   "metadata": {
    "collapsed": true
   },
   "outputs": [],
   "source": [
    "def cross_validate_model(raw_train, model):\n",
    "    prepared_train_with_target, feature_names = fully_prepare_train(raw_train)\n",
    "    \n",
    "    target = 'Next day sales'\n",
    "    \n",
    "    cv_score = cross_val_score(estimator=model, \n",
    "                    X=prepared_train_with_target[features],\n",
    "                    y=prepared_train_with_target[target], \n",
    "                    scoring='r2')\n",
    "    \n",
    "    return cv_score"
   ]
  },
  {
   "cell_type": "code",
   "execution_count": 121,
   "metadata": {
    "collapsed": true
   },
   "outputs": [],
   "source": [
    "def train_and_predict_next_day(raw_train, model):\n",
    "    prepared_train_without_target = prepare_features(prepare_index(raw_train))\n",
    "    prepared_train_with_target, feature_names = fully_prepare_train(raw_train)\n",
    "    \n",
    "    target = 'Next day sales'\n",
    "\n",
    "    model.fit(X=prepared_train_with_target[features],\n",
    "              y=prepared_train_with_target[target])\n",
    "    \n",
    "    last_day_we_have = pd.to_datetime(raw_train['Date'],\n",
    "                                      format='%Y-%m-%d').max()\n",
    "    print(last_day_we_have)\n",
    "\n",
    "    last_day_data = train_with_prepared_features.xs(last_day_we_have, \n",
    "                                                level='Date')\n",
    "\n",
    "    last_day_data['Predictions for next day'] = model.predict(\n",
    "        last_day_data[features])\n",
    "\n",
    "    predictions = last_day_data['Predictions for next day']\n",
    "    return predictions"
   ]
  },
  {
   "cell_type": "markdown",
   "metadata": {},
   "source": [
    "Let's do a quick run, to get our baseline result: "
   ]
  },
  {
   "cell_type": "code",
   "execution_count": 118,
   "metadata": {
    "collapsed": true
   },
   "outputs": [],
   "source": [
    "def get_the_first_day_from_test(test_set):\n",
    "    first_day_of_the_test_set = pd.to_datetime(test_set['Date'], format='%Y-%m-%d').min()\n",
    "    print(first_day_of_the_test_set)\n",
    "    \n",
    "    future_prepared_index = prepare_index(test_set)\n",
    "    new_day_data = future_prepared_index.xs(day_we_predicted, level='Date')\n",
    "    return new_day_data['Sales']"
   ]
  },
  {
   "cell_type": "code",
   "execution_count": 119,
   "metadata": {},
   "outputs": [],
   "source": [
    "train = pd.read_csv('../data/sales_data.csv', low_memory=False)\n",
    "test = pd.read_csv('../data/sales_data_recent.csv', low_memory=False)"
   ]
  },
  {
   "cell_type": "code",
   "execution_count": 122,
   "metadata": {},
   "outputs": [
    {
     "name": "stdout",
     "output_type": "stream",
     "text": [
      "2015-05-29 00:00:00\n",
      "2015-05-30 00:00:00\n",
      "R2 = 0.90\n"
     ]
    }
   ],
   "source": [
    "predictions = train_and_predict_next_day(train, model=RandomForestRegressor())\n",
    "\n",
    "true_values = get_the_first_day_from_test(test)\n",
    "\n",
    "results = pd.concat([true_values, predictions], axis=1)\n",
    "print('R2 = %0.2f' % (r2_score(results['Sales'], results['Predictions for next day'])))"
   ]
  },
  {
   "cell_type": "markdown",
   "metadata": {},
   "source": [
    "So, with the work we've done so far, we can predict with this R2. "
   ]
  },
  {
   "cell_type": "markdown",
   "metadata": {},
   "source": [
    "# Improving the regressor: "
   ]
  },
  {
   "cell_type": "code",
   "execution_count": null,
   "metadata": {
    "collapsed": true
   },
   "outputs": [],
   "source": [
    "models = {\n",
    "    'rf_base': RandomForestRegressor(n_jobs=-1),\n",
    "    'rf_deep': RandomForestRegressor(n_estimators=100, max_depth=10, n_jobs=-1),\n",
    "    'tree_base': DecisionTreeRegressor(),\n",
    "    'tree_deep': DecisionTreeRegressor(max_depth=15),\n",
    "}"
   ]
  },
  {
   "cell_type": "code",
   "execution_count": null,
   "metadata": {
    "collapsed": true
   },
   "outputs": [],
   "source": [
    "performance = {}\n",
    "for model in models:\n",
    "    print('working on %s' % model, end = ', ')\n",
    "    %time performance[model] = cross_validate_model(train, models[model]).mean()"
   ]
  },
  {
   "cell_type": "code",
   "execution_count": null,
   "metadata": {
    "collapsed": true
   },
   "outputs": [],
   "source": [
    "pd.Series(performance).sort_values(ascending=False)"
   ]
  },
  {
   "cell_type": "code",
   "execution_count": null,
   "metadata": {
    "collapsed": true
   },
   "outputs": [],
   "source": [
    "def prepare_features(df):\n",
    "    df = df.copy()\n",
    "    df['date'] = pd.to_datetime(df['Date'], format='%Y-%m-%d')\n",
    "    df.set_index('date', inplace=True)  # make the date the index\n",
    "    df.sort_index(inplace=True)  # sort the dataset on the index\n",
    "    df['Previous day sales'] = df.groupby('Store')['Sales'].shift(1)\n",
    "    df['Sales 6 days before'] = df.groupby('Store')['Sales'].shift(6)\n",
    "    \n",
    "    # some new features \n",
    "    for i in range(1, 5): \n",
    "        new_col_name = 'Sales %s days before' % str(i)\n",
    "    df[new_col_name] = df.groupby('Store')['Sales'].shift(i)\n",
    "    df.dropna(inplace=True)\n",
    "    return df"
   ]
  },
  {
   "cell_type": "code",
   "execution_count": null,
   "metadata": {
    "collapsed": true
   },
   "outputs": [],
   "source": [
    "performance['exp1: Adding previous sales days'] = cross_validate_model(train, models['rf_deep']).mean()\n",
    "pd.Series(performance).sort_values(ascending=False)"
   ]
  },
  {
   "cell_type": "code",
   "execution_count": null,
   "metadata": {
    "collapsed": true
   },
   "outputs": [],
   "source": [
    "def prepare_features(df):\n",
    "    df = df.copy()\n",
    "    df['date'] = pd.to_datetime(df['Date'], format='%Y-%m-%d')\n",
    "    df.set_index('date', inplace=True)  # make the date the index\n",
    "    df.sort_index(inplace=True)  # sort the dataset on the index\n",
    "    df['Previous day sales'] = df.groupby('Store')['Sales'].shift(1)\n",
    "    df['Sales 6 days before'] = df.groupby('Store')['Sales'].shift(6)\n",
    "    \n",
    "    # some new features \n",
    "    for i in range(1, 5): \n",
    "        new_col_name = 'Sales %s days before' % str(i)\n",
    "    df[new_col_name] = df.groupby('Store')['Sales'].shift(i)\n",
    "    \n",
    "    # adding some rolling windows: \n",
    "    for i in range(1, 5): \n",
    "        new_col_name = 'Rolling window of sales %s from days before' % str(i)\n",
    "    df[new_col_name] = df['Sales'].rolling(i).mean()\n",
    "    \n",
    "    df.dropna(inplace=True)\n",
    "    return df"
   ]
  },
  {
   "cell_type": "code",
   "execution_count": null,
   "metadata": {
    "collapsed": true,
    "scrolled": false
   },
   "outputs": [],
   "source": [
    "performance['exp2: Adding a few rolling windows of sales'] = cross_validate_model(train, models['rf_deep']).mean()\n",
    "pd.Series(performance).sort_values(ascending=False)"
   ]
  },
  {
   "cell_type": "markdown",
   "metadata": {},
   "source": [
    "Also, another interesting question is how our sales the previous day compared to the sales of the previous week"
   ]
  },
  {
   "cell_type": "code",
   "execution_count": null,
   "metadata": {
    "collapsed": true
   },
   "outputs": [],
   "source": [
    "def prepare_features(df):\n",
    "    df = df.copy()\n",
    "    df['date'] = pd.to_datetime(df['Date'], format='%Y-%m-%d')\n",
    "    df.set_index('date', inplace=True)  # make the date the index\n",
    "    df.sort_index(inplace=True)  # sort the dataset on the index\n",
    "    df['Previous day sales'] = df.groupby('Store')['Sales'].shift(1)\n",
    "    df['Sales 6 days before'] = df.groupby('Store')['Sales'].shift(6)\n",
    "    \n",
    "    # some new features \n",
    "    for i in range(1, 2): \n",
    "        new_col_name = 'Sales %s days before' % str(i)\n",
    "    df[new_col_name] = df.groupby('Store')['Sales'].shift(i)\n",
    "    \n",
    "    # adding some rolling windows: \n",
    "    for i in range(1, 2): \n",
    "        new_col_name = 'Rolling window of sales %s from days before' % str(i)\n",
    "    df[new_col_name] = df['Sales'].rolling(i).mean()\n",
    "    \n",
    "    df['Previous week same day'] = df.groupby(['Store', 'DayOfWeek'])['Sales'].shift(1)\n",
    "    df.dropna(inplace=True)\n",
    "    df['Week on week sales ratio'] = df['Sales'] / df['Previous week same day']\n",
    "    df.replace([np.inf, -np.inf, np.nan], 0, inplace=True)\n",
    "    df.drop('Previous week same day', axis=1, inplace=True)\n",
    "    \n",
    "    df.dropna(inplace=True)\n",
    "    \n",
    "    return df"
   ]
  },
  {
   "cell_type": "code",
   "execution_count": null,
   "metadata": {
    "collapsed": true,
    "scrolled": true
   },
   "outputs": [],
   "source": [
    "performance['exp3: Adding the sales ratios between consecutive weeks'] = cross_validate_model(train, models['rf_deep']).mean()\n",
    "pd.Series(performance).sort_values(ascending=False)"
   ]
  },
  {
   "cell_type": "markdown",
   "metadata": {},
   "source": [
    "So, we've been increasing our performance on cross validation, maybe it's time for another attempt. However, we should remember that some days (for instance holidays) are really easy to predict, so our score will probably be lower than the cross validation score. "
   ]
  },
  {
   "cell_type": "markdown",
   "metadata": {},
   "source": [
    "### Excellent, now let's see how we did"
   ]
  },
  {
   "cell_type": "code",
   "execution_count": null,
   "metadata": {
    "collapsed": true,
    "scrolled": false
   },
   "outputs": [],
   "source": [
    "train = pd.read_csv('sales_data.csv', low_memory=False)\n",
    "\n",
    "#predictions = train_and_predict_next_day(train, \n",
    "#                                         model=models['rf_deep'])\n",
    "predictions = train_and_predict_next_day(train, \n",
    "                                         model=RandomForestRegressor())\n",
    "\n",
    "\n",
    "results = pd.concat([true_values, predictions], axis=1)\n",
    "print('R2 = %0.2f' % (r2_score(results['Sales'], results['Predictions for next day'])))"
   ]
  },
  {
   "cell_type": "markdown",
   "metadata": {},
   "source": [
    "Worse? Why?"
   ]
  },
  {
   "cell_type": "markdown",
   "metadata": {
    "collapsed": true
   },
   "source": [
    "Options: \n",
    "- You actually dno't have the sales ratio \n",
    "- you might have too much noise from building those extra features, which are larger in number than the ones you now have \n",
    "- A feature selection step might help with that "
   ]
  }
 ],
 "metadata": {
  "kernelspec": {
   "display_name": "Python 3",
   "language": "python",
   "name": "python3"
  },
  "language_info": {
   "codemirror_mode": {
    "name": "ipython",
    "version": 3
   },
   "file_extension": ".py",
   "mimetype": "text/x-python",
   "name": "python",
   "nbconvert_exporter": "python",
   "pygments_lexer": "ipython3",
   "version": "3.4.3"
  }
 },
 "nbformat": 4,
 "nbformat_minor": 2
}
